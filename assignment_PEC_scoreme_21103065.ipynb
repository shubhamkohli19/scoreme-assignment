{
 "cells": [
  {
   "cell_type": "code",
   "execution_count": 1,
   "id": "120c7849-f7bd-44ed-b87d-1c5370ab7b84",
   "metadata": {},
   "outputs": [],
   "source": [
    "import fitz  # PyMuPDF\n",
    "import pandas as pd\n",
    "import re"
   ]
  },
  {
   "cell_type": "code",
   "execution_count": 2,
   "id": "ec6df498-bf5b-4be1-8427-6ec1a4c0d418",
   "metadata": {},
   "outputs": [],
   "source": [
    "def extract_text_from_pdf(pdf_path):\n",
    "    \"\"\"Extracts text from a PDF.\"\"\"\n",
    "    doc = fitz.open(pdf_path)\n",
    "    return \"\\n\".join(page.get_text(\"text\") for page in doc)"
   ]
  },
  {
   "cell_type": "code",
   "execution_count": 3,
   "id": "c15f9be6-5ca6-4062-adc2-2a160b7b9294",
   "metadata": {},
   "outputs": [],
   "source": [
    "def extract_transactions(text):\n",
    "    \"\"\"Extracts transactions using regex pattern matching.\"\"\"\n",
    "    transaction_pattern = re.compile(\n",
    "        r\"(\\d{2}-[A-Za-z]{3}-\\d{4})\\s+([TC])\\s+(.*?)\\s+([\\d,]+\\.\\d{2})\\s+([\\d,]+\\.\\d{2}[A-Za-z]*)\"\n",
    "    )\n",
    "    \n",
    "    transactions = []\n",
    "    for match in transaction_pattern.findall(text):\n",
    "        date, txn_type, desc, amount, balance = match\n",
    "        transactions.append([date, txn_type, desc.strip(), amount, balance])\n",
    "\n",
    "    return transactions"
   ]
  },
  {
   "cell_type": "code",
   "execution_count": 4,
   "id": "2c86e33c-4088-4e75-9b79-28a0dd5f99b7",
   "metadata": {},
   "outputs": [],
   "source": [
    "def save_to_excel(transactions, output_path):\n",
    "    \"\"\"Saves extracted transactions to an Excel file.\"\"\"\n",
    "    df = pd.DataFrame(transactions, columns=[\"Date\", \"Type\", \"Description\", \"Amount\", \"Balance\"])\n",
    "    df.to_excel(output_path, index=False)\n",
    "    print(f\"Transactions saved to {output_path}\")"
   ]
  },
  {
   "cell_type": "code",
   "execution_count": 5,
   "id": "c76bdfb8-542d-462d-b532-aa41288358a4",
   "metadata": {},
   "outputs": [],
   "source": [
    "def process_pdf_to_excel(pdf_path, output_path):\n",
    "    \"\"\"Extracts transactions from PDF and saves them to Excel.\"\"\"\n",
    "    text = extract_text_from_pdf(pdf_path)\n",
    "    transactions = extract_transactions(text)\n",
    "    \n",
    "    if transactions:\n",
    "        save_to_excel(transactions, output_path)\n",
    "    else:\n",
    "        print(\"⚠️ No transactions found. Check regex or PDF format.\")"
   ]
  },
  {
   "cell_type": "code",
   "execution_count": 6,
   "id": "b89a7802-d845-46de-8ced-3ac9e28f5472",
   "metadata": {},
   "outputs": [
    {
     "name": "stdout",
     "output_type": "stream",
     "text": [
      "Transactions saved to output.xlsx\n"
     ]
    }
   ],
   "source": [
    "pdf_path = \"test3.pdf\"\n",
    "output_path = \"output.xlsx\"\n",
    "\n",
    "process_pdf_to_excel(pdf_path, output_path)"
   ]
  }
 ],
 "metadata": {
  "kernelspec": {
   "display_name": "Python 3 (ipykernel)",
   "language": "python",
   "name": "python3"
  },
  "language_info": {
   "codemirror_mode": {
    "name": "ipython",
    "version": 3
   },
   "file_extension": ".py",
   "mimetype": "text/x-python",
   "name": "python",
   "nbconvert_exporter": "python",
   "pygments_lexer": "ipython3",
   "version": "3.13.1"
  }
 },
 "nbformat": 4,
 "nbformat_minor": 5
}
